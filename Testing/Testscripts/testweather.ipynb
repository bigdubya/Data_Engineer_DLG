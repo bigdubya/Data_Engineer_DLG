{
 "cells": [
  {
   "cell_type": "code",
   "execution_count": 17,
   "metadata": {},
   "outputs": [],
   "source": [
    "import pytest\n",
    "from unittest import TestCase\n",
    "import numpy as np\n",
    "import pandas as pd\n",
    "import pyarrow as pa\n",
    "import pyarrow.parquet as pq\n",
    "import os\n",
    "\n",
    "\n",
    "#Testing\n",
    "\n",
    "\n",
    "#open files in excel note down row details for maximum temps\n",
    "df1 = pd.read_csv(os.path.abspath('weather.20160201.csv'))\n",
    "df2 = pd.read_csv(os.path.abspath('weather.20160301.csv'))\n",
    "\n",
    "maxtemp = max(df1['ScreenTemperature'].max(),df2['ScreenTemperature'].max())\n",
    "\n",
    "class Testfile(TestCase):\n",
    "    \n",
    "    def testexpected(self):\n",
    "        weather_data = pq.ParquetDataset('weather_results/')\n",
    "        table = weather_data.read()\n",
    "        weather_table_df = table.to_pandas()\n",
    "        \n",
    "        assert expected == maxtemp"
   ]
  },
  {
   "cell_type": "code",
   "execution_count": 16,
   "metadata": {},
   "outputs": [],
   "source": [
    "\n",
    "    \n"
   ]
  },
  {
   "cell_type": "code",
   "execution_count": 14,
   "metadata": {},
   "outputs": [],
   "source": []
  },
  {
   "cell_type": "code",
   "execution_count": 15,
   "metadata": {},
   "outputs": [
    {
     "data": {
      "text/plain": [
       "15.8"
      ]
     },
     "execution_count": 15,
     "metadata": {},
     "output_type": "execute_result"
    }
   ],
   "source": []
  },
  {
   "cell_type": "code",
   "execution_count": null,
   "metadata": {},
   "outputs": [],
   "source": []
  }
 ],
 "metadata": {
  "kernelspec": {
   "display_name": "Python 3",
   "language": "python",
   "name": "python3"
  },
  "language_info": {
   "codemirror_mode": {
    "name": "ipython",
    "version": 3
   },
   "file_extension": ".py",
   "mimetype": "text/x-python",
   "name": "python",
   "nbconvert_exporter": "python",
   "pygments_lexer": "ipython3",
   "version": "3.7.3"
  }
 },
 "nbformat": 4,
 "nbformat_minor": 2
}
