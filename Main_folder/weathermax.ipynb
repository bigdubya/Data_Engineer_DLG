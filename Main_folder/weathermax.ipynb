{
 "cells": [
  {
   "cell_type": "code",
   "execution_count": 1,
   "metadata": {},
   "outputs": [],
   "source": []
  },
  {
   "cell_type": "code",
   "execution_count": 36,
   "metadata": {},
   "outputs": [],
   "source": [
    "import numpy as np\n",
    "import pandas as pd\n",
    "import pyarrow as pa\n",
    "import pyarrow.parquet as pq\n",
    "import os\n",
    "\n",
    "\n",
    "class WeatherMax():\n",
    "    '''\n",
    "    pass file directory path with forward slashes\n",
    "    '''\n",
    "    def __init__(self,directorypath):\n",
    "        self.directorypath = directorypath\n",
    "        \n",
    "    def csvtodataset(self):\n",
    "        os.chdir(self.directorypath)\n",
    "        \n",
    "        #read csv files in directory\n",
    "        \n",
    "        for file in os.listdir():\n",
    "            if file.endswith(\".csv\"):\n",
    "                file1 = file\n",
    "                df = pd.read_csv(os.path.abspath(file1))\n",
    "                \n",
    "                #select required columns and enrich data with partition attributes\n",
    "                \n",
    "                df = df[['ForecastSiteCode','ObservationTime','ObservationDate','ScreenTemperature','SiteName','Region']]\n",
    "                df = df.sort_values(by=['ForecastSiteCode','ObservationDate','ObservationTime'])\n",
    "                df = df.reset_index(drop=True)\n",
    "                df['ObsYear'] = pd.DatetimeIndex(df['ObservationDate']).year\n",
    "                df['ObsMonth'] = pd.DatetimeIndex(df['ObservationDate']).month\n",
    "                df['ObsDay'] = pd.DatetimeIndex(df['ObservationDate']).day\n",
    "\n",
    "                table = pa.Table.from_pandas(df)\n",
    "\n",
    "                #create additional files for testing \n",
    "\n",
    "                file1 = file1.replace(\".csv\",\".\")\n",
    "                file2 = file1 + 'parquet.snappy'\n",
    "                pq.write_table(table, file2,compression='snappy')\n",
    "\n",
    "                pq.write_to_dataset(table,root_path='weather_results',partition_cols=['ObsYear','ObsMonth','Region'])           \n",
    "              \n",
    "    def builddataset(self):\n",
    "        self.csvtodataset()\n",
    "        \n",
    "    def weatherresults(self):\n",
    "        weather_data = pq.ParquetDataset('weather_results/')\n",
    "        table = weather_data.read()\n",
    "        weather_table_df = table.to_pandas()\n",
    "        weather_result = weather_table_df.loc[weather_table_df['ScreenTemperature'].idxmax()]\n",
    "        temp = weather_result['ScreenTemperature']\n",
    "        date = weather_result['ObservationDate'][:9]\n",
    "        region = weather_result['Region']\n",
    "\n",
    "        print(\"Which date was the hottest day? \",date)\n",
    "        print(\"\") \n",
    "        print(\"What was the temperature on that day? \",temp)\n",
    "        print(\"\")        \n",
    "        print(\"In which region was the hottest day? \",region) \n",
    "        \n",
    "    def prntresults(self):\n",
    "        self.weatherresults()\n",
    "        \n",
    "    "
   ]
  },
  {
   "cell_type": "code",
   "execution_count": 37,
   "metadata": {},
   "outputs": [],
   "source": []
  },
  {
   "cell_type": "code",
   "execution_count": 40,
   "metadata": {},
   "outputs": [
    {
     "name": "stdout",
     "output_type": "stream",
     "text": [
      "Which date was the hottest day?  2016-03-1\n",
      "\n",
      "What was the temperature on that day?  15.8\n",
      "\n",
      "In which region was the hottest day?  Highland & Eilean Siar\n"
     ]
    }
   ],
   "source": []
  },
  {
   "cell_type": "code",
   "execution_count": null,
   "metadata": {},
   "outputs": [],
   "source": [
    "WeatherMax()"
   ]
  }
 ],
 "metadata": {
  "kernelspec": {
   "display_name": "Python 3",
   "language": "python",
   "name": "python3"
  },
  "language_info": {
   "codemirror_mode": {
    "name": "ipython",
    "version": 3
   },
   "file_extension": ".py",
   "mimetype": "text/x-python",
   "name": "python",
   "nbconvert_exporter": "python",
   "pygments_lexer": "ipython3",
   "version": "3.7.3"
  }
 },
 "nbformat": 4,
 "nbformat_minor": 2
}
